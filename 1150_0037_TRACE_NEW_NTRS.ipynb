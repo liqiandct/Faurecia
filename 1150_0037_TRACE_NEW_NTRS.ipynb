{
 "cells": [
  {
   "cell_type": "code",
   "execution_count": 1,
   "metadata": {
    "collapsed": true
   },
   "outputs": [],
   "source": [
    "import fnmatch\n",
    "import os\n",
    "import pandas as pd\n",
    "import re\n",
    "import numpy as np\n",
    "import matplotlib.pyplot as plt\n",
    "from datetime import datetime\n",
    "import sys\n",
    "reload(sys)\n",
    "sys.setdefaultencoding(\"latin1\")"
   ]
  },
  {
   "cell_type": "code",
   "execution_count": 2,
   "metadata": {
    "collapsed": true
   },
   "outputs": [],
   "source": [
    "path = r'C:\\Users\\IBM_ADMIN\\Faurecia\\CSV_Data_Original\\1150_0037'"
   ]
  },
  {
   "cell_type": "code",
   "execution_count": 3,
   "metadata": {
    "collapsed": true
   },
   "outputs": [],
   "source": [
    "files = []\n",
    "files.append('1150_0037_MERGE_NEW_NTRS_PRC_FOR_TRACE.csv')"
   ]
  },
  {
   "cell_type": "code",
   "execution_count": 4,
   "metadata": {
    "collapsed": true
   },
   "outputs": [],
   "source": [
    "FILE_ = os.path.join(path, files[0])"
   ]
  },
  {
   "cell_type": "code",
   "execution_count": 5,
   "metadata": {},
   "outputs": [],
   "source": [
    "pd.set_option('precision', 9)\n",
    "data_frame = []\n",
    "data_frame = pd.read_csv(FILE_,index_col=None, header=0, decimal=\",\",parse_dates=['TIMESTAMP'], date_parser=lambda s: datetime.strptime(s, \"%d/%m/%Y %H:%M:%S\"))"
   ]
  },
  {
   "cell_type": "code",
   "execution_count": null,
   "metadata": {},
   "outputs": [],
   "source": [
    "#data_frame.shape\n",
    "data_frame.columns"
   ]
  },
  {
   "cell_type": "code",
   "execution_count": 6,
   "metadata": {
    "collapsed": true
   },
   "outputs": [],
   "source": [
    "ntrs_df = data_frame[data_frame['NEAR_TO_DMC'] == 'T'][['TIMESTAMP', 'CAUSE', 'NEXT_NTRS']]\n",
    "prc_df = data_frame"
   ]
  },
  {
   "cell_type": "code",
   "execution_count": null,
   "metadata": {},
   "outputs": [],
   "source": [
    "ntrs_df.shape"
   ]
  },
  {
   "cell_type": "code",
   "execution_count": null,
   "metadata": {},
   "outputs": [],
   "source": [
    "prc_df.head().TIMESTAMP"
   ]
  },
  {
   "cell_type": "code",
   "execution_count": null,
   "metadata": {
    "collapsed": true
   },
   "outputs": [],
   "source": [
    "#allitem = list(prc_df.columns.values)"
   ]
  },
  {
   "cell_type": "code",
   "execution_count": null,
   "metadata": {
    "collapsed": true
   },
   "outputs": [],
   "source": [
    "#transfer_control = [i for i in allitem if i.startswith('P_TRANSFER_CONTROL')]"
   ]
  },
  {
   "cell_type": "code",
   "execution_count": 80,
   "metadata": {
    "collapsed": true
   },
   "outputs": [],
   "source": [
    "sub_control = ['P_TRANSFER_CONTROL_E_A60_P0_SET', 'P_TRANSFER_CONTROL_A31_P2_SET', 'P_TRANSFER_CONTROL_A50_P1_SET']"
   ]
  },
  {
   "cell_type": "code",
   "execution_count": 7,
   "metadata": {
    "collapsed": true
   },
   "outputs": [],
   "source": [
    "ntrs_df['DE_TIMESTAMP'] = ntrs_df.TIMESTAMP.astype('datetime64[ns]').astype(np.int64)\n",
    "ntrs_df['DE_TIMESTAMP'] = ntrs_df['DE_TIMESTAMP']/1000000"
   ]
  },
  {
   "cell_type": "code",
   "execution_count": 8,
   "metadata": {},
   "outputs": [],
   "source": [
    "prc_df['DE_TIMESTAMP'] = prc_df.TIMESTAMP.astype('datetime64[ns]').astype(np.int64)\n",
    "prc_df['DE_TIMESTAMP'] = prc_df['DE_TIMESTAMP']/1000000"
   ]
  },
  {
   "cell_type": "code",
   "execution_count": 9,
   "metadata": {
    "collapsed": true
   },
   "outputs": [],
   "source": [
    "prc_df = prc_df.sort_values(by=['DE_TIMESTAMP'])\n",
    "ntrs_df = ntrs_df.sort_values(by=['DE_TIMESTAMP'])"
   ]
  },
  {
   "cell_type": "code",
   "execution_count": null,
   "metadata": {
    "collapsed": true
   },
   "outputs": [],
   "source": [
    "BRK_TIME = list(ntrs_df.TIMESTAMP)"
   ]
  },
  {
   "cell_type": "code",
   "execution_count": null,
   "metadata": {
    "collapsed": true
   },
   "outputs": [],
   "source": [
    "#ntrs_df['CAUSE'] = ntrs_df.CAUSE.apply(str)\n",
    "#ntrs_df['CAUSE_2'] = ntrs_df.CAUSE_2.apply(str)"
   ]
  },
  {
   "cell_type": "code",
   "execution_count": null,
   "metadata": {
    "collapsed": true
   },
   "outputs": [],
   "source": [
    "import datetime\n",
    "for i in BRK4_TIME :\n",
    "    start = i - datetime.timedelta(days=-3)\n",
    "start"
   ]
  },
  {
   "cell_type": "code",
   "execution_count": null,
   "metadata": {
    "collapsed": true
   },
   "outputs": [],
   "source": [
    "BRK4 = NTRS[NTRS['CAUSE']=='4.000000']\n",
    "BRK4.shape\n",
    "#BRK4.iloc[:(BRK4.shape[0])/2]"
   ]
  },
  {
   "cell_type": "code",
   "execution_count": null,
   "metadata": {
    "collapsed": true
   },
   "outputs": [],
   "source": [
    "#prc_df['TIMESTAMP']"
   ]
  },
  {
   "cell_type": "code",
   "execution_count": null,
   "metadata": {
    "collapsed": true
   },
   "outputs": [],
   "source": [
    "#prc_df[prc_df['TIMESTAMP'] < '2018-01-01 00:00:00']\n",
    "#prc_df[prc_df['TIMESTAMP'] < '2018-01-01 00:00:00'].loc[:,['DE_TIMESTAMP','TIMESTAMP',item]]"
   ]
  },
  {
   "cell_type": "code",
   "execution_count": 90,
   "metadata": {
    "collapsed": true
   },
   "outputs": [],
   "source": [
    "TIME_START = '2018-03-02 00:00:00'\n",
    "TIME_END = '2018-03-03 12:00:00'"
   ]
  },
  {
   "cell_type": "code",
   "execution_count": 50,
   "metadata": {
    "collapsed": true
   },
   "outputs": [],
   "source": [
    "TIME_START = '2018-02-13 00:00:00'\n",
    "TIME_END = '2018-02-15 00:00:00'"
   ]
  },
  {
   "cell_type": "code",
   "execution_count": null,
   "metadata": {
    "collapsed": true
   },
   "outputs": [],
   "source": [
    "TIME_START, TIME_END, mask_ntrs, brk"
   ]
  },
  {
   "cell_type": "code",
   "execution_count": 91,
   "metadata": {},
   "outputs": [
    {
     "data": {
      "text/html": [
       "<div>\n",
       "<style>\n",
       "    .dataframe thead tr:only-child th {\n",
       "        text-align: right;\n",
       "    }\n",
       "\n",
       "    .dataframe thead th {\n",
       "        text-align: left;\n",
       "    }\n",
       "\n",
       "    .dataframe tbody tr th {\n",
       "        vertical-align: top;\n",
       "    }\n",
       "</style>\n",
       "<table border=\"1\" class=\"dataframe\">\n",
       "  <thead>\n",
       "    <tr style=\"text-align: right;\">\n",
       "      <th></th>\n",
       "      <th>DE_TIMESTAMP</th>\n",
       "      <th>TIMESTAMP</th>\n",
       "      <th>CAUSE</th>\n",
       "      <th>NEXT_NTRS</th>\n",
       "    </tr>\n",
       "  </thead>\n",
       "  <tbody>\n",
       "    <tr>\n",
       "      <th>48895</th>\n",
       "      <td>1.519952748e+12</td>\n",
       "      <td>2018-03-02 01:05:48</td>\n",
       "      <td>Fallo organizativo</td>\n",
       "      <td>Fallo organizativo__Cambios__Cambio de vigona</td>\n",
       "    </tr>\n",
       "    <tr>\n",
       "      <th>48920</th>\n",
       "      <td>1.519954186e+12</td>\n",
       "      <td>2018-03-02 01:29:46</td>\n",
       "      <td>Smed</td>\n",
       "      <td>Smed__WAT-Cambio de molde/cunas__Non Classified</td>\n",
       "    </tr>\n",
       "    <tr>\n",
       "      <th>49130</th>\n",
       "      <td>1.519967924e+12</td>\n",
       "      <td>2018-03-02 05:18:44</td>\n",
       "      <td>Smed</td>\n",
       "      <td>Smed__WAT-Cambio de molde/cunas__Non Classified</td>\n",
       "    </tr>\n",
       "    <tr>\n",
       "      <th>49277</th>\n",
       "      <td>1.519977673e+12</td>\n",
       "      <td>2018-03-02 08:01:13</td>\n",
       "      <td>Fallo organizativo</td>\n",
       "      <td>Fallo organizativo__Cambios__Cambio de vigona</td>\n",
       "    </tr>\n",
       "    <tr>\n",
       "      <th>49356</th>\n",
       "      <td>1.519981411e+12</td>\n",
       "      <td>2018-03-02 09:03:31</td>\n",
       "      <td>Fallo organizativo</td>\n",
       "      <td>Fallo organizativo__Cambios__Cambio de moqueta</td>\n",
       "    </tr>\n",
       "    <tr>\n",
       "      <th>49388</th>\n",
       "      <td>1.519988915e+12</td>\n",
       "      <td>2018-03-02 11:08:35</td>\n",
       "      <td>Parada programada</td>\n",
       "      <td>Parada programada__Otras paradas programadas__...</td>\n",
       "    </tr>\n",
       "    <tr>\n",
       "      <th>49392</th>\n",
       "      <td>1.519989873e+12</td>\n",
       "      <td>2018-03-02 11:24:33</td>\n",
       "      <td>Parada programada</td>\n",
       "      <td>Parada programada__Otras paradas programadas__...</td>\n",
       "    </tr>\n",
       "    <tr>\n",
       "      <th>49397</th>\n",
       "      <td>1.519991089e+12</td>\n",
       "      <td>2018-03-02 11:44:49</td>\n",
       "      <td>Parada programada</td>\n",
       "      <td>Parada programada__Otras paradas programadas__...</td>\n",
       "    </tr>\n",
       "    <tr>\n",
       "      <th>49467</th>\n",
       "      <td>1.519995466e+12</td>\n",
       "      <td>2018-03-02 12:57:46</td>\n",
       "      <td>Parada programada</td>\n",
       "      <td>Parada programada__TOP5__Non Classified</td>\n",
       "    </tr>\n",
       "    <tr>\n",
       "      <th>49533</th>\n",
       "      <td>1.519999480e+12</td>\n",
       "      <td>2018-03-02 14:04:40</td>\n",
       "      <td>Smed</td>\n",
       "      <td>Smed__SOLD- Cambio utillaje__Non Classified</td>\n",
       "    </tr>\n",
       "    <tr>\n",
       "      <th>49538</th>\n",
       "      <td>1.520002864e+12</td>\n",
       "      <td>2018-03-02 15:01:04</td>\n",
       "      <td>Avería</td>\n",
       "      <td>Avería__PRE- Aver?a prensas__Non Classified</td>\n",
       "    </tr>\n",
       "    <tr>\n",
       "      <th>49551</th>\n",
       "      <td>1.520003867e+12</td>\n",
       "      <td>2018-03-02 15:17:47</td>\n",
       "      <td>Avería</td>\n",
       "      <td>Avería__SOMM- Calentamiento__Otros calentamiento</td>\n",
       "    </tr>\n",
       "    <tr>\n",
       "      <th>49552</th>\n",
       "      <td>1.520004235e+12</td>\n",
       "      <td>2018-03-02 15:23:55</td>\n",
       "      <td>Avería</td>\n",
       "      <td>Avería__SOLD- Av. Máquina soldadura__Otro maqu...</td>\n",
       "    </tr>\n",
       "    <tr>\n",
       "      <th>49557</th>\n",
       "      <td>1.520006055e+12</td>\n",
       "      <td>2018-03-02 15:54:15</td>\n",
       "      <td>Avería</td>\n",
       "      <td>Avería__SOLD- Av. Máquina soldadura__Otro maqu...</td>\n",
       "    </tr>\n",
       "    <tr>\n",
       "      <th>49560</th>\n",
       "      <td>1.520006591e+12</td>\n",
       "      <td>2018-03-02 16:03:11</td>\n",
       "      <td>Avería</td>\n",
       "      <td>Avería__PRE- Aver?a prensas__Non Classified</td>\n",
       "    </tr>\n",
       "    <tr>\n",
       "      <th>49579</th>\n",
       "      <td>1.520009288e+12</td>\n",
       "      <td>2018-03-02 16:48:08</td>\n",
       "      <td>Avería</td>\n",
       "      <td>Avería__AUX- Aver?a instalaciones auxiliares__...</td>\n",
       "    </tr>\n",
       "    <tr>\n",
       "      <th>49580</th>\n",
       "      <td>1.520009790e+12</td>\n",
       "      <td>2018-03-02 16:56:30</td>\n",
       "      <td>Fallo organizativo</td>\n",
       "      <td>Fallo organizativo__Otras disfunciones__Otras</td>\n",
       "    </tr>\n",
       "    <tr>\n",
       "      <th>49586</th>\n",
       "      <td>1.520010831e+12</td>\n",
       "      <td>2018-03-02 17:13:51</td>\n",
       "      <td>Fallo organizativo</td>\n",
       "      <td>Fallo organizativo__Otras disfunciones__Otras</td>\n",
       "    </tr>\n",
       "    <tr>\n",
       "      <th>49588</th>\n",
       "      <td>1.520011562e+12</td>\n",
       "      <td>2018-03-02 17:26:02</td>\n",
       "      <td>Avería</td>\n",
       "      <td>Avería__SOLD- Av. Máquina soldadura__Otro maqu...</td>\n",
       "    </tr>\n",
       "    <tr>\n",
       "      <th>49594</th>\n",
       "      <td>1.520012317e+12</td>\n",
       "      <td>2018-03-02 17:38:37</td>\n",
       "      <td>Fallo organizativo</td>\n",
       "      <td>Fallo organizativo__Otras disfunciones__Otras</td>\n",
       "    </tr>\n",
       "    <tr>\n",
       "      <th>49598</th>\n",
       "      <td>1.520013024e+12</td>\n",
       "      <td>2018-03-02 17:50:24</td>\n",
       "      <td>Fallo organizativo</td>\n",
       "      <td>Fallo organizativo__Otras disfunciones__Otras</td>\n",
       "    </tr>\n",
       "    <tr>\n",
       "      <th>49606</th>\n",
       "      <td>1.520014417e+12</td>\n",
       "      <td>2018-03-02 18:13:37</td>\n",
       "      <td>Fallo organizativo</td>\n",
       "      <td>Fallo organizativo__Otras disfunciones__Otras</td>\n",
       "    </tr>\n",
       "    <tr>\n",
       "      <th>49622</th>\n",
       "      <td>1.520015854e+12</td>\n",
       "      <td>2018-03-02 18:37:34</td>\n",
       "      <td>Avería</td>\n",
       "      <td>Avería__PRE- Aver?a prensas__Non Classified</td>\n",
       "    </tr>\n",
       "    <tr>\n",
       "      <th>49635</th>\n",
       "      <td>1.520018078e+12</td>\n",
       "      <td>2018-03-02 19:14:38</td>\n",
       "      <td>Avería</td>\n",
       "      <td>Avería__PRE- Aver?a prensas__Non Classified</td>\n",
       "    </tr>\n",
       "    <tr>\n",
       "      <th>49637</th>\n",
       "      <td>1.520019577e+12</td>\n",
       "      <td>2018-03-02 19:39:37</td>\n",
       "      <td>Avería</td>\n",
       "      <td>Avería__PRE- Aver?a prensas__Non Classified</td>\n",
       "    </tr>\n",
       "    <tr>\n",
       "      <th>49671</th>\n",
       "      <td>1.520025623e+12</td>\n",
       "      <td>2018-03-02 21:20:23</td>\n",
       "      <td>Fallo organizativo</td>\n",
       "      <td>Fallo organizativo__Ajustar parámetros__Non Cl...</td>\n",
       "    </tr>\n",
       "    <tr>\n",
       "      <th>49680</th>\n",
       "      <td>1.520026461e+12</td>\n",
       "      <td>2018-03-02 21:34:21</td>\n",
       "      <td>Avería</td>\n",
       "      <td>Avería__SOMM- Prensa / conformado__Otros fallo...</td>\n",
       "    </tr>\n",
       "    <tr>\n",
       "      <th>49749</th>\n",
       "      <td>1.520030235e+12</td>\n",
       "      <td>2018-03-02 22:37:15</td>\n",
       "      <td>Fallo organizativo</td>\n",
       "      <td>Fallo organizativo__Cambios__Cambio de vigona</td>\n",
       "    </tr>\n",
       "    <tr>\n",
       "      <th>49752</th>\n",
       "      <td>1.520030562e+12</td>\n",
       "      <td>2018-03-02 22:42:42</td>\n",
       "      <td>Fallo organizativo</td>\n",
       "      <td>Fallo organizativo__Otras disfunciones__Otras</td>\n",
       "    </tr>\n",
       "    <tr>\n",
       "      <th>49769</th>\n",
       "      <td>1.520032749e+12</td>\n",
       "      <td>2018-03-02 23:19:09</td>\n",
       "      <td>Fallo organizativo</td>\n",
       "      <td>Fallo organizativo__Vigona se pega__Non Classi...</td>\n",
       "    </tr>\n",
       "    <tr>\n",
       "      <th>49775</th>\n",
       "      <td>1.520033310e+12</td>\n",
       "      <td>2018-03-02 23:28:30</td>\n",
       "      <td>Fallo organizativo</td>\n",
       "      <td>Fallo organizativo__Vigona se pega__Non Classi...</td>\n",
       "    </tr>\n",
       "    <tr>\n",
       "      <th>49839</th>\n",
       "      <td>1.520037088e+12</td>\n",
       "      <td>2018-03-03 00:31:28</td>\n",
       "      <td>Fallo organizativo</td>\n",
       "      <td>Fallo organizativo__Otras disfunciones__Otras</td>\n",
       "    </tr>\n",
       "    <tr>\n",
       "      <th>49860</th>\n",
       "      <td>1.520038238e+12</td>\n",
       "      <td>2018-03-03 00:50:38</td>\n",
       "      <td>Fallo organizativo</td>\n",
       "      <td>Fallo organizativo__Cambios__Cambio de vigona</td>\n",
       "    </tr>\n",
       "    <tr>\n",
       "      <th>49867</th>\n",
       "      <td>1.520038728e+12</td>\n",
       "      <td>2018-03-03 00:58:48</td>\n",
       "      <td>Fallo organizativo</td>\n",
       "      <td>Fallo organizativo__Otras disfunciones__Otras</td>\n",
       "    </tr>\n",
       "    <tr>\n",
       "      <th>49898</th>\n",
       "      <td>1.520040392e+12</td>\n",
       "      <td>2018-03-03 01:26:32</td>\n",
       "      <td>Fallo organizativo</td>\n",
       "      <td>Fallo organizativo__Otras disfunciones__Otras</td>\n",
       "    </tr>\n",
       "    <tr>\n",
       "      <th>49913</th>\n",
       "      <td>1.520041433e+12</td>\n",
       "      <td>2018-03-03 01:43:53</td>\n",
       "      <td>Fallo organizativo</td>\n",
       "      <td>Fallo organizativo__Otras disfunciones__Otras</td>\n",
       "    </tr>\n",
       "    <tr>\n",
       "      <th>49982</th>\n",
       "      <td>1.520045779e+12</td>\n",
       "      <td>2018-03-03 02:56:19</td>\n",
       "      <td>Fallo organizativo</td>\n",
       "      <td>Fallo organizativo__Cambios__Cambio de vigona</td>\n",
       "    </tr>\n",
       "    <tr>\n",
       "      <th>49986</th>\n",
       "      <td>1.520046194e+12</td>\n",
       "      <td>2018-03-03 03:03:14</td>\n",
       "      <td>Fallo organizativo</td>\n",
       "      <td>Fallo organizativo__Otras disfunciones__Otras</td>\n",
       "    </tr>\n",
       "    <tr>\n",
       "      <th>50036</th>\n",
       "      <td>1.520049383e+12</td>\n",
       "      <td>2018-03-03 03:56:23</td>\n",
       "      <td>Fallo organizativo</td>\n",
       "      <td>Fallo organizativo__Otras disfunciones__Conato...</td>\n",
       "    </tr>\n",
       "  </tbody>\n",
       "</table>\n",
       "</div>"
      ],
      "text/plain": [
       "          DE_TIMESTAMP           TIMESTAMP               CAUSE  \\\n",
       "48895  1.519952748e+12 2018-03-02 01:05:48  Fallo organizativo   \n",
       "48920  1.519954186e+12 2018-03-02 01:29:46                Smed   \n",
       "49130  1.519967924e+12 2018-03-02 05:18:44                Smed   \n",
       "49277  1.519977673e+12 2018-03-02 08:01:13  Fallo organizativo   \n",
       "49356  1.519981411e+12 2018-03-02 09:03:31  Fallo organizativo   \n",
       "49388  1.519988915e+12 2018-03-02 11:08:35   Parada programada   \n",
       "49392  1.519989873e+12 2018-03-02 11:24:33   Parada programada   \n",
       "49397  1.519991089e+12 2018-03-02 11:44:49   Parada programada   \n",
       "49467  1.519995466e+12 2018-03-02 12:57:46   Parada programada   \n",
       "49533  1.519999480e+12 2018-03-02 14:04:40                Smed   \n",
       "49538  1.520002864e+12 2018-03-02 15:01:04              AverÃ­a   \n",
       "49551  1.520003867e+12 2018-03-02 15:17:47              AverÃ­a   \n",
       "49552  1.520004235e+12 2018-03-02 15:23:55              AverÃ­a   \n",
       "49557  1.520006055e+12 2018-03-02 15:54:15              AverÃ­a   \n",
       "49560  1.520006591e+12 2018-03-02 16:03:11              AverÃ­a   \n",
       "49579  1.520009288e+12 2018-03-02 16:48:08              AverÃ­a   \n",
       "49580  1.520009790e+12 2018-03-02 16:56:30  Fallo organizativo   \n",
       "49586  1.520010831e+12 2018-03-02 17:13:51  Fallo organizativo   \n",
       "49588  1.520011562e+12 2018-03-02 17:26:02              AverÃ­a   \n",
       "49594  1.520012317e+12 2018-03-02 17:38:37  Fallo organizativo   \n",
       "49598  1.520013024e+12 2018-03-02 17:50:24  Fallo organizativo   \n",
       "49606  1.520014417e+12 2018-03-02 18:13:37  Fallo organizativo   \n",
       "49622  1.520015854e+12 2018-03-02 18:37:34              AverÃ­a   \n",
       "49635  1.520018078e+12 2018-03-02 19:14:38              AverÃ­a   \n",
       "49637  1.520019577e+12 2018-03-02 19:39:37              AverÃ­a   \n",
       "49671  1.520025623e+12 2018-03-02 21:20:23  Fallo organizativo   \n",
       "49680  1.520026461e+12 2018-03-02 21:34:21              AverÃ­a   \n",
       "49749  1.520030235e+12 2018-03-02 22:37:15  Fallo organizativo   \n",
       "49752  1.520030562e+12 2018-03-02 22:42:42  Fallo organizativo   \n",
       "49769  1.520032749e+12 2018-03-02 23:19:09  Fallo organizativo   \n",
       "49775  1.520033310e+12 2018-03-02 23:28:30  Fallo organizativo   \n",
       "49839  1.520037088e+12 2018-03-03 00:31:28  Fallo organizativo   \n",
       "49860  1.520038238e+12 2018-03-03 00:50:38  Fallo organizativo   \n",
       "49867  1.520038728e+12 2018-03-03 00:58:48  Fallo organizativo   \n",
       "49898  1.520040392e+12 2018-03-03 01:26:32  Fallo organizativo   \n",
       "49913  1.520041433e+12 2018-03-03 01:43:53  Fallo organizativo   \n",
       "49982  1.520045779e+12 2018-03-03 02:56:19  Fallo organizativo   \n",
       "49986  1.520046194e+12 2018-03-03 03:03:14  Fallo organizativo   \n",
       "50036  1.520049383e+12 2018-03-03 03:56:23  Fallo organizativo   \n",
       "\n",
       "                                               NEXT_NTRS  \n",
       "48895      Fallo organizativo__Cambios__Cambio de vigona  \n",
       "48920    Smed__WAT-Cambio de molde/cunas__Non Classified  \n",
       "49130    Smed__WAT-Cambio de molde/cunas__Non Classified  \n",
       "49277      Fallo organizativo__Cambios__Cambio de vigona  \n",
       "49356     Fallo organizativo__Cambios__Cambio de moqueta  \n",
       "49388  Parada programada__Otras paradas programadas__...  \n",
       "49392  Parada programada__Otras paradas programadas__...  \n",
       "49397  Parada programada__Otras paradas programadas__...  \n",
       "49467            Parada programada__TOP5__Non Classified  \n",
       "49533        Smed__SOLD- Cambio utillaje__Non Classified  \n",
       "49538        AverÃ­a__PRE- Aver?a prensas__Non Classified  \n",
       "49551   AverÃ­a__SOMM- Calentamiento__Otros calentamiento  \n",
       "49552  AverÃ­a__SOLD- Av. MÃ¡quina soldadura__Otro maqu...  \n",
       "49557  AverÃ­a__SOLD- Av. MÃ¡quina soldadura__Otro maqu...  \n",
       "49560        AverÃ­a__PRE- Aver?a prensas__Non Classified  \n",
       "49579  AverÃ­a__AUX- Aver?a instalaciones auxiliares__...  \n",
       "49580      Fallo organizativo__Otras disfunciones__Otras  \n",
       "49586      Fallo organizativo__Otras disfunciones__Otras  \n",
       "49588  AverÃ­a__SOLD- Av. MÃ¡quina soldadura__Otro maqu...  \n",
       "49594      Fallo organizativo__Otras disfunciones__Otras  \n",
       "49598      Fallo organizativo__Otras disfunciones__Otras  \n",
       "49606      Fallo organizativo__Otras disfunciones__Otras  \n",
       "49622        AverÃ­a__PRE- Aver?a prensas__Non Classified  \n",
       "49635        AverÃ­a__PRE- Aver?a prensas__Non Classified  \n",
       "49637        AverÃ­a__PRE- Aver?a prensas__Non Classified  \n",
       "49671  Fallo organizativo__Ajustar parÃ¡metros__Non Cl...  \n",
       "49680  AverÃ­a__SOMM- Prensa / conformado__Otros fallo...  \n",
       "49749      Fallo organizativo__Cambios__Cambio de vigona  \n",
       "49752      Fallo organizativo__Otras disfunciones__Otras  \n",
       "49769  Fallo organizativo__Vigona se pega__Non Classi...  \n",
       "49775  Fallo organizativo__Vigona se pega__Non Classi...  \n",
       "49839      Fallo organizativo__Otras disfunciones__Otras  \n",
       "49860      Fallo organizativo__Cambios__Cambio de vigona  \n",
       "49867      Fallo organizativo__Otras disfunciones__Otras  \n",
       "49898      Fallo organizativo__Otras disfunciones__Otras  \n",
       "49913      Fallo organizativo__Otras disfunciones__Otras  \n",
       "49982      Fallo organizativo__Cambios__Cambio de vigona  \n",
       "49986      Fallo organizativo__Otras disfunciones__Otras  \n",
       "50036  Fallo organizativo__Otras disfunciones__Conato...  "
      ]
     },
     "execution_count": 91,
     "metadata": {},
     "output_type": "execute_result"
    }
   ],
   "source": [
    "mask_ntrs = (ntrs_df['TIMESTAMP'] >= TIME_START) & (ntrs_df['TIMESTAMP'] <= TIME_END)\n",
    "NTRS = ntrs_df.loc[mask_ntrs].loc[:,['DE_TIMESTAMP','TIMESTAMP','CAUSE','NEXT_NTRS']]\n",
    "NTRS"
   ]
  },
  {
   "cell_type": "code",
   "execution_count": 92,
   "metadata": {},
   "outputs": [
    {
     "data": {
      "text/html": [
       "<div>\n",
       "<style>\n",
       "    .dataframe thead tr:only-child th {\n",
       "        text-align: right;\n",
       "    }\n",
       "\n",
       "    .dataframe thead th {\n",
       "        text-align: left;\n",
       "    }\n",
       "\n",
       "    .dataframe tbody tr th {\n",
       "        vertical-align: top;\n",
       "    }\n",
       "</style>\n",
       "<table border=\"1\" class=\"dataframe\">\n",
       "  <thead>\n",
       "    <tr style=\"text-align: right;\">\n",
       "      <th></th>\n",
       "      <th>DE_TIMESTAMP</th>\n",
       "      <th>TIMESTAMP</th>\n",
       "      <th>CAUSE</th>\n",
       "      <th>NEXT_NTRS</th>\n",
       "    </tr>\n",
       "  </thead>\n",
       "  <tbody>\n",
       "    <tr>\n",
       "      <th>49622</th>\n",
       "      <td>1.520015854e+12</td>\n",
       "      <td>2018-03-02 18:37:34</td>\n",
       "      <td>Avería</td>\n",
       "      <td>Avería__PRE- Aver?a prensas__Non Classified</td>\n",
       "    </tr>\n",
       "    <tr>\n",
       "      <th>49635</th>\n",
       "      <td>1.520018078e+12</td>\n",
       "      <td>2018-03-02 19:14:38</td>\n",
       "      <td>Avería</td>\n",
       "      <td>Avería__PRE- Aver?a prensas__Non Classified</td>\n",
       "    </tr>\n",
       "    <tr>\n",
       "      <th>49637</th>\n",
       "      <td>1.520019577e+12</td>\n",
       "      <td>2018-03-02 19:39:37</td>\n",
       "      <td>Avería</td>\n",
       "      <td>Avería__PRE- Aver?a prensas__Non Classified</td>\n",
       "    </tr>\n",
       "  </tbody>\n",
       "</table>\n",
       "</div>"
      ],
      "text/plain": [
       "          DE_TIMESTAMP           TIMESTAMP   CAUSE  \\\n",
       "49622  1.520015854e+12 2018-03-02 18:37:34  AverÃ­a   \n",
       "49635  1.520018078e+12 2018-03-02 19:14:38  AverÃ­a   \n",
       "49637  1.520019577e+12 2018-03-02 19:39:37  AverÃ­a   \n",
       "\n",
       "                                         NEXT_NTRS  \n",
       "49622  AverÃ­a__PRE- Aver?a prensas__Non Classified  \n",
       "49635  AverÃ­a__PRE- Aver?a prensas__Non Classified  \n",
       "49637  AverÃ­a__PRE- Aver?a prensas__Non Classified  "
      ]
     },
     "execution_count": 92,
     "metadata": {},
     "output_type": "execute_result"
    }
   ],
   "source": [
    "NTRS[22:25]"
   ]
  },
  {
   "cell_type": "code",
   "execution_count": 14,
   "metadata": {},
   "outputs": [],
   "source": [
    "#NTRS['DE_TIMESTAMP'] = NTRS.TIMESTAMP.astype('datetime64[ns]').astype(np.int64)\n",
    "#NTRS['DE_TIMESTAMP'] = NTRS['DE_TIMESTAMP']/1000000\n",
    "#NTRS"
   ]
  },
  {
   "cell_type": "code",
   "execution_count": null,
   "metadata": {},
   "outputs": [],
   "source": [
    "#datetime.datetime.fromtimestamp(ts / 1e3).strftime(\"%Y-%m-%d %H:%M:%S\") for ts in NTRS.DE_TIMESTAM\n",
    "#for time in list(NTRS.DE_TIMESTAMP):\n",
    "#    TIMESTAMP2 = (datetime.datetime.fromtimestamp(time / 1e3) - datetime.timedelta(minutes=60)).strftime(\"%Y-%m-%d %H:%M:%S\")"
   ]
  },
  {
   "cell_type": "code",
   "execution_count": null,
   "metadata": {
    "collapsed": true
   },
   "outputs": [],
   "source": [
    "test = NTRS[NTRS['TIMESTAMP'] == brk].TIMESTAMP.values[0]\n",
    "test"
   ]
  },
  {
   "cell_type": "code",
   "execution_count": 16,
   "metadata": {},
   "outputs": [
    {
     "data": {
      "text/plain": [
       "'Aver\\xeda'"
      ]
     },
     "execution_count": 16,
     "metadata": {},
     "output_type": "execute_result"
    }
   ],
   "source": [
    "cause4 = NTRS.iloc[0]['CAUSE']\n",
    "cause4 "
   ]
  },
  {
   "cell_type": "code",
   "execution_count": null,
   "metadata": {},
   "outputs": [],
   "source": [
    "NTRS"
   ]
  },
  {
   "cell_type": "code",
   "execution_count": null,
   "metadata": {},
   "outputs": [],
   "source": [
    "NTRS[5:6].NEXT_NTRS.item()\n",
    "#NTRS[5:6].TIMESTAMP.values[0]"
   ]
  },
  {
   "cell_type": "code",
   "execution_count": null,
   "metadata": {},
   "outputs": [],
   "source": [
    "X3"
   ]
  },
  {
   "cell_type": "code",
   "execution_count": null,
   "metadata": {
    "collapsed": true
   },
   "outputs": [],
   "source": [
    "import sys  \n",
    "reload(sys)  \n",
    "sys.setdefaultencoding('utf8')"
   ]
  },
  {
   "cell_type": "code",
   "execution_count": 96,
   "metadata": {},
   "outputs": [
    {
     "data": {
      "text/plain": [
       "[Timestamp('2018-03-02 18:37:34'),\n",
       " Timestamp('2018-03-02 19:14:38'),\n",
       " Timestamp('2018-03-02 19:39:37')]"
      ]
     },
     "execution_count": 96,
     "metadata": {},
     "output_type": "execute_result"
    }
   ],
   "source": [
    "#PRC.TIMESTAMP\n",
    "#TIME_END\n",
    "list(NTRS[22:25].TIMESTAMP)"
   ]
  },
  {
   "cell_type": "code",
   "execution_count": 89,
   "metadata": {},
   "outputs": [
    {
     "data": {
      "image/png": "[encoded data removed]",
      "text/plain": [
       "<matplotlib.figure.Figure at 0xa3b0550>"
      ]
     },
     "metadata": {},
     "output_type": "display_data"
    },
    {
     "data": {
      "image/png": "[encoded data removed]",
      "text/plain": [
       "<matplotlib.figure.Figure at 0xcba48d0>"
      ]
     },
     "metadata": {},
     "output_type": "display_data"
    },
    {
     "data": {
      "image/png": "[encoded data removed]",
      "text/plain": [
       "<matplotlib.figure.Figure at 0xa6fc550>"
      ]
     },
     "metadata": {},
     "output_type": "display_data"
    }
   ],
   "source": [
    "import datetime\n",
    "import matplotlib.pyplot as plt\n",
    "version = 0\n",
    "\n",
    "for item in sub_control:\n",
    "    mask_prc = (prc_df['TIMESTAMP'] >= TIME_START) & (prc_df['TIMESTAMP'] <= TIME_END)            \n",
    "    PRC = prc_df.loc[mask_prc].loc[:,['DE_TIMESTAMP','TIMESTAMP',item]]\n",
    "\n",
    "    mask_ntrs = (ntrs_df['TIMESTAMP'] >= TIME_START) & (ntrs_df['TIMESTAMP'] <= TIME_END)\n",
    "    NTRS = ntrs_df.loc[mask_ntrs].loc[:,['DE_TIMESTAMP','TIMESTAMP','CAUSE', 'NEXT_NTRS']]\n",
    "\n",
    "    %matplotlib inline\n",
    "    plt.figure(figsize=(20,10))\n",
    "\n",
    "    #ax = plt.subplot(221)\n",
    "    ax = plt.subplot()\n",
    "    main_brk = NTRS[22:23].NEXT_NTRS.item()\n",
    "    main_time = list(NTRS[22:25].TIMESTAMP)\n",
    "    X3=item+'-MAIN BRK-'+main_brk+'-TIME-'+str(NTRS[22:23].TIMESTAMP.vlaues[0])\n",
    "    X4=item+'.'+'jpeg'\n",
    "    #print(X3.decode().encode('utf-8'))\n",
    "    plt.title(X3)\n",
    "    plt.grid(True)\n",
    "\n",
    "    X = PRC['DE_TIMESTAMP'].values\n",
    "    Y = PRC[item].values\n",
    "    plt.vlines(x=X, ymin=min(Y),ymax=max(Y),color='none')\n",
    "    plt.scatter(X, Y, color='b')\n",
    "    for i in range(NTRS.shape[0]):\n",
    "        if NTRS.iloc[i]['CAUSE'] == cause4 and NTRS.iloc[i]['TIMESTAMP'] isin main_time:\n",
    "            plt.axvline(x=NTRS.iloc[i]['DE_TIMESTAMP'],ymax=200, color='r',linewidth=3)\n",
    "        elif NTRS.iloc[i]['CAUSE'] == cause4 and NTRS.iloc[i]['TIMESTAMP'] != main_time:\n",
    "            plt.axvline(x=NTRS.iloc[i]['DE_TIMESTAMP'],ymax=200, color='orange',linewidth=3)\n",
    "        #else:\n",
    "            #plt.axvline(x=NTRS.iloc[i]['DE_TIMESTAMP'],ymax=200, color='green',linewidth=3)\n",
    "    ax.set_xticklabels([(datetime.datetime.fromtimestamp(ts / 1e3)- datetime.timedelta(minutes=60)).strftime(\"%Y-%m-%d %H:%M:%S\") for ts in ax.get_xticks()])\n",
    "    fig1 = plt.gcf()\n",
    "    plt.show()\n",
    "    fig1.savefig(X4)"
   ]
  },
  {
   "cell_type": "code",
   "execution_count": null,
   "metadata": {
    "collapsed": true
   },
   "outputs": [],
   "source": [
    "import datetime\n",
    "import matplotlib.pyplot as plt\n",
    "version = 0\n",
    "\n",
    "for brk in SUB_BRK4_TIME:\n",
    "    #version = version +1\n",
    "    for item in sub_control:\n",
    "        TIME_START = brk - datetime.timedelta(days=3)\n",
    "        TIME_END = brk + datetime.timedelta(days=2)\n",
    "        mask_prc = (prc_df['TIMESTAMP'] >= TIME_START) & (prc_df['TIMESTAMP'] <= TIME_END)            \n",
    "        PRC = prc_df.loc[mask_prc].loc[:,['DE_TIMESTAMP','TIMESTAMP',item]]\n",
    "\n",
    "        mask_ntrs = (ntrs_df['TIMESTAMP'] >= TIME_START) & (ntrs_df['TIMESTAMP'] <= TIME_END)\n",
    "        NTRS = BRK4.loc[mask_ntrs].loc[:,['DE_TIMESTAMP','TIMESTAMP','CAUSE', 'CAUSE_2']]\n",
    "\n",
    "        %matplotlib inline\n",
    "        plt.figure(figsize=(60,30))\n",
    "\n",
    "        ax = plt.subplot(221)\n",
    "        main_brk = NTRS[NTRS['TIMESTAMP'] == brk].CAUSE_2.item()\n",
    "        main_time = NTRS[NTRS['TIMESTAMP'] == brk].TIMESTAMP.values[0]\n",
    "        X3=item+'-MAIN BRK-'+main_brk+'-MAIN TIME-'+str(main_time)\n",
    "        #X4=item+'-MAIN_BRK-'+main_brk+'_V'+str(version)+'.'+'jpeg'\n",
    "        plt.title(X3)\n",
    "        plt.grid(True)\n",
    "\n",
    "        X = PRC['DE_TIMESTAMP'].values\n",
    "        Y = PRC[item].values\n",
    "        plt.vlines(x=X, ymin=min(Y),ymax=max(Y),color='none')\n",
    "        plt.scatter(X, Y, color='b')\n",
    "        for i in range(NTRS.shape[0]):\n",
    "            if NTRS.iloc[i]['CAUSE'] == '4.000000':\n",
    "                plt.axvline(x=NTRS.iloc[i]['DE_TIMESTAMP'],ymax=200, color='r',linewidth=3)\n",
    "        ax.set_xticklabels([datetime.datetime.fromtimestamp(ts / 1e3).strftime(\"%Y-%m-%d %H:%M:%S\") for ts in ax.get_xticks()])\n",
    "        fig1 = plt.gcf()\n",
    "        plt.show()\n",
    "        #fig1.savefig(X4)"
   ]
  },
  {
   "cell_type": "code",
   "execution_count": null,
   "metadata": {
    "collapsed": true
   },
   "outputs": [],
   "source": [
    "#PRC[PRC['TIMESTAMP'] >= '2018-01-29 10:39:04']"
   ]
  },
  {
   "cell_type": "code",
   "execution_count": null,
   "metadata": {
    "collapsed": true
   },
   "outputs": [],
   "source": [
    "import matplotlib.pyplot as plt\n",
    "for item in test:\n",
    "    PRC1 = prc_df.loc[:,['DE_TIMESTAMP',item]].iloc[:(prc_df.shape[0]/2)]\n",
    "    PRC2 = prc_df.loc[:,['DE_TIMESTAMP',item]].iloc[(prc_df.shape[0]/2):]\n",
    "    Time = PRC2.iloc[0].DE_TIMESTAMP\n",
    "    \n",
    "    NTRS1 = ntrs_df[ntrs_df['DE_TIMESTAMP'] < Time].loc[:,['DE_TIMESTAMP','TIMESTAMP','CAUSE']]\n",
    "    NTRS2 = ntrs_df[ntrs_df['DE_TIMESTAMP'] >= Time].loc[:,['DE_TIMESTAMP','TIMESTAMP','CAUSE']]\n",
    "    \n",
    "    %matplotlib inline\n",
    "    plt.figure(figsize=(60,30))\n",
    "    \n",
    "    ax = plt.subplot(221)\n",
    "    #X3=j+str(i)\n",
    "    X4=item+'_2'+'.'+'jpeg'\n",
    "    plt.title(item)\n",
    "    plt.grid(True)\n",
    "    \n",
    "    X = PRC2['DE_TIMESTAMP'].values\n",
    "    Y = PRC2[item].values\n",
    "    plt.vlines(x=X, ymin=min(Y),ymax=max(Y),color='none')\n",
    "    plt.scatter(X, Y, color='b')\n",
    "    for i in range(NTRS2.shape[0]):\n",
    "        if NTRS2.iloc[i]['CAUSE'] == '4.000000':\n",
    "            plt.axvline(x=NTRS2.iloc[i]['DE_TIMESTAMP'],ymax=200, color='r',linewidth=3)\n",
    "    ax.set_xticklabels([datetime.fromtimestamp(ts / 1e3).strftime(\"%Y-%m-%d %H:%M:%S\") for ts in ax.get_xticks()])\n",
    "    fig1 = plt.gcf()\n",
    "    plt.show()"
   ]
  },
  {
   "cell_type": "code",
   "execution_count": null,
   "metadata": {
    "collapsed": true
   },
   "outputs": [],
   "source": [
    "import matplotlib.pyplot as plt\n",
    "for item in test:\n",
    "    PRC1 = prc_df.loc[:,['DE_TIMESTAMP',item]].iloc[:(prc_df.shape[0]/2)]\n",
    "    PRC2 = prc_df.loc[:,['DE_TIMESTAMP',item]].iloc[(prc_df.shape[0]/2):]\n",
    "    Time = PRC2.iloc[0].DE_TIMESTAMP\n",
    "    \n",
    "    NTRS1 = ntrs_df[ntrs_df['DE_TIMESTAMP'] < Time].loc[:,['DE_TIMESTAMP','TIMESTAMP','CAUSE']]\n",
    "    NTRS2 = ntrs_df[ntrs_df['DE_TIMESTAMP'] >= Time].loc[:,['DE_TIMESTAMP','TIMESTAMP','CAUSE']]\n",
    "    \n",
    "    %matplotlib inline\n",
    "    plt.figure(figsize=(60,30))\n",
    "    ax = plt.subplot(221)\n",
    "    #X3=j+str(i)\n",
    "    X4=item+'_1'+'.'+'jpeg'\n",
    "    plt.title(item)\n",
    "    plt.grid(True)\n",
    "    \n",
    "    X = PRC1['DE_TIMESTAMP'].values\n",
    "    Y = PRC1[item].values\n",
    "    plt.vlines(x=X, ymin=min(Y),ymax=max(Y),color='none')\n",
    "    plt.scatter(X, Y, color='b')\n",
    "    for i in range(NTRS1.shape[0]):\n",
    "        if NTRS1.iloc[i]['CAUSE'] == '4.000000':\n",
    "            plt.axvline(x=NTRS1.iloc[i]['DE_TIMESTAMP'],ymax=200, color='r',linewidth=3)\n",
    "    ax.set_xticklabels([datetime.fromtimestamp(ts / 1e3).strftime(\"%Y-%m-%d %H:%M:%S\") for ts in ax.get_xticks()])\n",
    "    fig1 = plt.gcf()\n",
    "    plt.show()\n",
    "    fig1.savefig(X4)\n",
    "     "
   ]
  },
  {
   "cell_type": "code",
   "execution_count": null,
   "metadata": {
    "collapsed": true
   },
   "outputs": [],
   "source": [
    "for i in range(NTRS2.shape[0]):\n",
    "    if NTRS2.iloc[i][2] == '4.000000':\n",
    "        print NTRS2.iloc[i]"
   ]
  },
  {
   "cell_type": "code",
   "execution_count": null,
   "metadata": {
    "collapsed": true
   },
   "outputs": [],
   "source": [
    "NTRS1 = ntrs_df[ntrs_df['DE_TIMESTAMP'] < Time]\n",
    "NTRS1"
   ]
  },
  {
   "cell_type": "code",
   "execution_count": null,
   "metadata": {
    "collapsed": true
   },
   "outputs": [],
   "source": [
    "Time = PRC2.iloc[0].DE_TIMESTAMP\n",
    "Time"
   ]
  }
 ],
 "metadata": {
  "kernelspec": {
   "display_name": "Python 2",
   "language": "python",
   "name": "python2"
  },
  "language_info": {
   "codemirror_mode": {
    "name": "ipython",
    "version": 2
   },
   "file_extension": ".py",
   "mimetype": "text/x-python",
   "name": "python",
   "nbconvert_exporter": "python",
   "pygments_lexer": "ipython2",
   "version": "2.7.14"
  }
 },
 "nbformat": 4,
 "nbformat_minor": 2
}
