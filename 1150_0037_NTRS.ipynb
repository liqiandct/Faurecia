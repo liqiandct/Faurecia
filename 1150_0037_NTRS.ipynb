{
 "cells": [
  {
   "cell_type": "code",
   "execution_count": 1,
   "metadata": {
    "collapsed": true
   },
   "outputs": [],
   "source": [
    "import fnmatch\n",
    "import os\n",
    "import pandas as pd"
   ]
  },
  {
   "cell_type": "code",
   "execution_count": 2,
   "metadata": {
    "collapsed": true
   },
   "outputs": [],
   "source": [
    "#path =r'C:\\Users\\IBM_ADMIN\\Faurecia\\Untitled Folder' \n",
    "#path =r'C:\\Users\\IBM_ADMIN\\Faurecia\\Untitled Folder\\1600T3\\C1' \n",
    "#path =r'C:\\Users\\IBM_ADMIN\\Faurecia\\FAS\\caligny'\n",
    "path =r'C:\\Users\\IBM_ADMIN\\Faurecia\\CSV_Data_Original\\1150_0037\\C1'"
   ]
  },
  {
   "cell_type": "code",
   "execution_count": 3,
   "metadata": {
    "collapsed": true
   },
   "outputs": [],
   "source": [
    "matches = []\n",
    "for root, dirnames, filenames in os.walk(path):\n",
    "    for filename in fnmatch.filter(filenames, '*.csv'):\n",
    "        matches.append(os.path.join(root, filename))"
   ]
  },
  {
   "cell_type": "code",
   "execution_count": 4,
   "metadata": {},
   "outputs": [
    {
     "data": {
      "text/plain": [
       "78"
      ]
     },
     "execution_count": 4,
     "metadata": {},
     "output_type": "execute_result"
    }
   ],
   "source": [
    "#for file_ in matches:\n",
    "#    print file_ \n",
    "len(matches)"
   ]
  },
  {
   "cell_type": "code",
   "execution_count": null,
   "metadata": {
    "collapsed": true
   },
   "outputs": [],
   "source": [
    "pd.set_option('precision', 9)\n",
    "frame_test = {}\n",
    "for file_ in matches:\n",
    "    index = matches.index(file_)\n",
    "    if index > 18 and index < 24:\n",
    "        frame_test[index] = pd.read_csv(file_,index_col=None, header=0, decimal=\",\") "
   ]
  },
  {
   "cell_type": "code",
   "execution_count": null,
   "metadata": {
    "collapsed": true
   },
   "outputs": [],
   "source": [
    "#frame_test[23]"
   ]
  },
  {
   "cell_type": "code",
   "execution_count": 5,
   "metadata": {
    "collapsed": true
   },
   "outputs": [],
   "source": [
    "pd.set_option('precision', 9)\n",
    "frame1 = {}\n",
    "frame2 = {}\n",
    "for file_ in matches:\n",
    "    index = matches.index(file_)\n",
    "    if index < 56:\n",
    "        frame1[index] = pd.read_csv(file_,index_col=None, header=0, decimal=\",\")\n",
    "        #print index, frame1[index].columns\n",
    "    else:\n",
    "        frame2[index] = pd.read_csv(file_,index_col=None, header=0, decimal=\",\")\n",
    "        #print index, frame2[index].columns\n"
   ]
  },
  {
   "cell_type": "code",
   "execution_count": 10,
   "metadata": {},
   "outputs": [],
   "source": [
    "#frame2.keys()\n",
    "#frame2[77].columns, frame2[76].columns, frame1[0].columns"
   ]
  },
  {
   "cell_type": "code",
   "execution_count": 11,
   "metadata": {},
   "outputs": [
    {
     "data": {
      "text/plain": [
       "(1399, 31)"
      ]
     },
     "execution_count": 11,
     "metadata": {},
     "output_type": "execute_result"
    }
   ],
   "source": [
    "C1_FRAME = pd.DataFrame()\n",
    "for index in range(56):\n",
    "    C1_FRAME = C1_FRAME.append(frame1[index],ignore_index=True)\n",
    "    #print index\n",
    "C1_FRAME.shape"
   ]
  },
  {
   "cell_type": "code",
   "execution_count": 12,
   "metadata": {},
   "outputs": [
    {
     "data": {
      "text/plain": [
       "(617, 31)"
      ]
     },
     "execution_count": 12,
     "metadata": {},
     "output_type": "execute_result"
    }
   ],
   "source": [
    "C2_FRAME = pd.DataFrame()\n",
    "for index in range(56,78):\n",
    "    C2_FRAME = C2_FRAME.append(frame2[index],ignore_index=True)\n",
    "    #print index\n",
    "C2_FRAME.shape"
   ]
  },
  {
   "cell_type": "code",
   "execution_count": 14,
   "metadata": {
    "collapsed": true
   },
   "outputs": [
    {
     "data": {
      "text/plain": [
       "(Index([u'SHIFT_CODE', u'PLANT', u'QTY_REWORK', u'MODIFIED_BY', u'CAUSE',\n",
       "        u'DE_PLANT', u'END_DATE', u'USER_ID', u'WORKCENTER', u'rowguid',\n",
       "        u'DE_TIMESTAMP', u'EQUIPMENT', u'STATUS', u'REPAIR_REQUEST_NR',\n",
       "        u'REMARK', u'CYCLE', u'DE_STATUS', u'MODIFIED_TIMESTAMP', u'CO_TARGET',\n",
       "        u'DE_MACHINE', u'START_DATE', u'PLANNED_STOPPAGE_ID', u'DE_TYPE',\n",
       "        u'TICKET', u'CREATED_ON', u'DE_SIZE', u'CAUSE_1', u'CAUSE_2',\n",
       "        u'DURATION', u'DE_API', u'TOOL'],\n",
       "       dtype='object'),\n",
       " Index([u'SHIFT_CODE', u'PLANT', u'QTY_REWORK', u'MODIFIED_BY', u'CAUSE',\n",
       "        u'DE_PLANT', u'END_DATE', u'USER_ID', u'WORKCENTER', u'rowguid',\n",
       "        u'EQUIPMENT', u'STATUS', u'DE_TIMESTAMP', u'REPAIR_REQUEST_NR',\n",
       "        u'REMARK', u'CYCLE', u'DE_STATUS', u'MODIFIED_TIMESTAMP', u'CO_TARGET',\n",
       "        u'DE_MACHINE', u'START_DATE', u'PLANNED_STOPPAGE_ID', u'DE_TYPE',\n",
       "        u'TICKET', u'CREATED_ON', u'DE_SIZE', u'CAUSE_1', u'CAUSE_2',\n",
       "        u'DURATION', u'DE_API', u'TOOL'],\n",
       "       dtype='object'))"
      ]
     },
     "execution_count": 14,
     "metadata": {},
     "output_type": "execute_result"
    }
   ],
   "source": [
    "C1_FRAME.columns,C2_FRAME.columns"
   ]
  },
  {
   "cell_type": "code",
   "execution_count": 13,
   "metadata": {
    "collapsed": true
   },
   "outputs": [],
   "source": [
    "C2_FRAME = C2_FRAME.rename(index=str, columns={\"BD_TIMESTAMP\": \"DE_TIMESTAMP\"})"
   ]
  },
  {
   "cell_type": "code",
   "execution_count": 15,
   "metadata": {
    "collapsed": true
   },
   "outputs": [],
   "source": [
    "frames = [C1_FRAME, C2_FRAME]\n",
    "result = pd.concat(frames)"
   ]
  },
  {
   "cell_type": "code",
   "execution_count": 16,
   "metadata": {},
   "outputs": [
    {
     "data": {
      "text/plain": [
       "((2016, 31),\n",
       " Index([u'CAUSE', u'CAUSE_1', u'CAUSE_2', u'CO_TARGET', u'CREATED_ON', u'CYCLE',\n",
       "        u'DE_API', u'DE_MACHINE', u'DE_PLANT', u'DE_SIZE', u'DE_STATUS',\n",
       "        u'DE_TIMESTAMP', u'DE_TYPE', u'DURATION', u'END_DATE', u'EQUIPMENT',\n",
       "        u'MODIFIED_BY', u'MODIFIED_TIMESTAMP', u'PLANNED_STOPPAGE_ID', u'PLANT',\n",
       "        u'QTY_REWORK', u'REMARK', u'REPAIR_REQUEST_NR', u'SHIFT_CODE',\n",
       "        u'START_DATE', u'STATUS', u'TICKET', u'TOOL', u'USER_ID', u'WORKCENTER',\n",
       "        u'rowguid'],\n",
       "       dtype='object'))"
      ]
     },
     "execution_count": 16,
     "metadata": {},
     "output_type": "execute_result"
    }
   ],
   "source": [
    "result.shape, result.columns"
   ]
  },
  {
   "cell_type": "code",
   "execution_count": 17,
   "metadata": {
    "collapsed": true
   },
   "outputs": [],
   "source": [
    "result.to_csv('1150_0037_NTRS_ALL.csv', index = False)"
   ]
  }
 ],
 "metadata": {
  "kernelspec": {
   "display_name": "Python 2",
   "language": "python",
   "name": "python2"
  },
  "language_info": {
   "codemirror_mode": {
    "name": "ipython",
    "version": 2
   },
   "file_extension": ".py",
   "mimetype": "text/x-python",
   "name": "python",
   "nbconvert_exporter": "python",
   "pygments_lexer": "ipython2",
   "version": "2.7.14"
  }
 },
 "nbformat": 4,
 "nbformat_minor": 2
}
