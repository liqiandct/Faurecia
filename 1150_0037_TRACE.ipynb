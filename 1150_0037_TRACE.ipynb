{
 "cells": [
  {
   "cell_type": "code",
   "execution_count": 1,
   "metadata": {
    "collapsed": true
   },
   "outputs": [],
   "source": [
    "import fnmatch\n",
    "import os\n",
    "import pandas as pd\n",
    "import re\n",
    "import numpy as np\n",
    "import matplotlib.pyplot as plt\n",
    "from datetime import datetime"
   ]
  },
  {
   "cell_type": "code",
   "execution_count": 2,
   "metadata": {
    "collapsed": true
   },
   "outputs": [],
   "source": [
    "path = r'C:\\Users\\IBM_ADMIN\\Faurecia\\CSV_Data_Original\\1150_0037'"
   ]
  },
  {
   "cell_type": "code",
   "execution_count": 3,
   "metadata": {
    "collapsed": true
   },
   "outputs": [],
   "source": [
    "files = []\n",
    "files.append('1150_0037_MERGE_NTRS_PRC.csv')"
   ]
  },
  {
   "cell_type": "code",
   "execution_count": 4,
   "metadata": {
    "collapsed": true
   },
   "outputs": [],
   "source": [
    "FILE_ = os.path.join(path, files[0])"
   ]
  },
  {
   "cell_type": "code",
   "execution_count": 5,
   "metadata": {},
   "outputs": [
    {
     "name": "stderr",
     "output_type": "stream",
     "text": [
      "C:\\ProgramData\\Anaconda2\\lib\\site-packages\\IPython\\core\\interactiveshell.py:2718: DtypeWarning: Columns (21,23,37,41,45,46,51,59,62,65,79,82,93,96,104,107,108,110,111,118,120,121,125,129,130,131,133) have mixed types. Specify dtype option on import or set low_memory=False.\n",
      "  interactivity=interactivity, compiler=compiler, result=result)\n"
     ]
    }
   ],
   "source": [
    "pd.set_option('precision', 9)\n",
    "data_frame = []\n",
    "#data_frame = pd.read_csv(FILE_, index_col=None, header=0, decimal=\",\")\n",
    "data_frame = pd.read_csv(FILE_,index_col=None, header=0, decimal=\",\",parse_dates=['TIMESTAMP'], date_parser=lambda s: datetime.strptime(s, \"%m/%d/%Y %H:%M:%S\"))"
   ]
  },
  {
   "cell_type": "code",
   "execution_count": null,
   "metadata": {
    "collapsed": true
   },
   "outputs": [],
   "source": [
    "data_frame.shape\n",
    "data_frame.columns"
   ]
  },
  {
   "cell_type": "code",
   "execution_count": 6,
   "metadata": {
    "collapsed": true
   },
   "outputs": [],
   "source": [
    "ntrs_df = data_frame[data_frame['DATA_TYPE'] == 'DMC'][['TIMESTAMP', 'END_TIME', 'CAUSE', 'CAUSE_1', 'CAUSE_2']]\n",
    "prc_df = data_frame[data_frame['DATA_TYPE'] == 'PRC'].loc[:,'DE_MACHINE':'TIMESTAMP']"
   ]
  },
  {
   "cell_type": "code",
   "execution_count": 7,
   "metadata": {
    "collapsed": true
   },
   "outputs": [],
   "source": [
    "allitem = list(prc_df.columns.values)"
   ]
  },
  {
   "cell_type": "code",
   "execution_count": 8,
   "metadata": {
    "collapsed": true
   },
   "outputs": [],
   "source": [
    "transfer_control = [i for i in allitem if i.startswith('P_TRANSFER_CONTROL')]"
   ]
  },
  {
   "cell_type": "code",
   "execution_count": null,
   "metadata": {
    "collapsed": true
   },
   "outputs": [],
   "source": [
    "#transfer_control"
   ]
  },
  {
   "cell_type": "code",
   "execution_count": null,
   "metadata": {
    "collapsed": true
   },
   "outputs": [],
   "source": [
    "sub_control = ['P_TRANSFER_CONTROL_A21_P0_SET']"
   ]
  },
  {
   "cell_type": "code",
   "execution_count": 9,
   "metadata": {
    "collapsed": true
   },
   "outputs": [],
   "source": [
    "ntrs_df['DE_TIMESTAMP'] = ntrs_df.TIMESTAMP.astype('datetime64[ns]').astype(np.int64)\n",
    "ntrs_df['DE_TIMESTAMP'] = ntrs_df['DE_TIMESTAMP']/1000000"
   ]
  },
  {
   "cell_type": "code",
   "execution_count": 10,
   "metadata": {
    "collapsed": true
   },
   "outputs": [],
   "source": [
    "prc_df['DE_TIMESTAMP'] = prc_df.DE_TIMESTAMP.astype('datetime64[ns]').astype(np.int64)"
   ]
  },
  {
   "cell_type": "code",
   "execution_count": 11,
   "metadata": {
    "collapsed": true
   },
   "outputs": [],
   "source": [
    "prc_df = prc_df.sort_values(by=['DE_TIMESTAMP'])\n",
    "ntrs_df = ntrs_df.sort_values(by=['DE_TIMESTAMP'])"
   ]
  },
  {
   "cell_type": "code",
   "execution_count": 12,
   "metadata": {
    "collapsed": true
   },
   "outputs": [],
   "source": [
    "ntrs_df['CAUSE'] = ntrs_df.CAUSE.apply(str)\n",
    "ntrs_df['CAUSE_2'] = ntrs_df.CAUSE_2.apply(str)"
   ]
  },
  {
   "cell_type": "code",
   "execution_count": 13,
   "metadata": {
    "collapsed": true
   },
   "outputs": [],
   "source": [
    "#prc_df['DE_TIMESTAMP']\n",
    "BRK4_TRANS = ['4BI43106', '4BI43107', '4BI11102', '4BI11105']\n",
    "BRK4 = ntrs_df[ntrs_df['CAUSE_2'].isin(BRK4_TRANS)]\n",
    "BRK4_TIME = list(BRK4.TIMESTAMP)"
   ]
  },
  {
   "cell_type": "code",
   "execution_count": null,
   "metadata": {},
   "outputs": [],
   "source": [
    "#BRK4_TIME\n",
    "SUB_BRK4_TIME = list(BRK4.iloc[:1].TIMESTAMP)\n",
    "SUB_BRK4_TIME"
   ]
  },
  {
   "cell_type": "code",
   "execution_count": 15,
   "metadata": {},
   "outputs": [
    {
     "data": {
      "text/html": [
       "<div>\n",
       "<style>\n",
       "    .dataframe thead tr:only-child th {\n",
       "        text-align: right;\n",
       "    }\n",
       "\n",
       "    .dataframe thead th {\n",
       "        text-align: left;\n",
       "    }\n",
       "\n",
       "    .dataframe tbody tr th {\n",
       "        vertical-align: top;\n",
       "    }\n",
       "</style>\n",
       "<table border=\"1\" class=\"dataframe\">\n",
       "  <thead>\n",
       "    <tr style=\"text-align: right;\">\n",
       "      <th></th>\n",
       "      <th>TIMESTAMP</th>\n",
       "      <th>END_TIME</th>\n",
       "      <th>CAUSE</th>\n",
       "      <th>CAUSE_1</th>\n",
       "      <th>CAUSE_2</th>\n",
       "      <th>DE_TIMESTAMP</th>\n",
       "    </tr>\n",
       "  </thead>\n",
       "  <tbody>\n",
       "    <tr>\n",
       "      <th>69904</th>\n",
       "      <td>2018-01-29 15:51:45</td>\n",
       "      <td>01/29/2018 16:03:36</td>\n",
       "      <td>4.000000</td>\n",
       "      <td>4BI11100</td>\n",
       "      <td>4BI11102</td>\n",
       "      <td>1.517241105e+12</td>\n",
       "    </tr>\n",
       "    <tr>\n",
       "      <th>69994</th>\n",
       "      <td>2018-02-02 12:56:06</td>\n",
       "      <td>02/02/2018 13:12:19</td>\n",
       "      <td>4.000000</td>\n",
       "      <td>4BI11100</td>\n",
       "      <td>4BI11102</td>\n",
       "      <td>1.517576166e+12</td>\n",
       "    </tr>\n",
       "    <tr>\n",
       "      <th>70117</th>\n",
       "      <td>2018-02-12 05:40:27</td>\n",
       "      <td>02/12/2018 06:18:48</td>\n",
       "      <td>4.000000</td>\n",
       "      <td>4BI11100</td>\n",
       "      <td>4BI11105</td>\n",
       "      <td>1.518414027e+12</td>\n",
       "    </tr>\n",
       "    <tr>\n",
       "      <th>70151</th>\n",
       "      <td>2018-02-13 08:18:27</td>\n",
       "      <td>02/13/2018 11:45:13</td>\n",
       "      <td>4.000000</td>\n",
       "      <td>4BI11100</td>\n",
       "      <td>4BI11105</td>\n",
       "      <td>1.518509907e+12</td>\n",
       "    </tr>\n",
       "    <tr>\n",
       "      <th>70218</th>\n",
       "      <td>2018-02-15 18:23:26</td>\n",
       "      <td>02/15/2018 20:54:33</td>\n",
       "      <td>4.000000</td>\n",
       "      <td>4BI11100</td>\n",
       "      <td>4BI11102</td>\n",
       "      <td>1.518719006e+12</td>\n",
       "    </tr>\n",
       "    <tr>\n",
       "      <th>70741</th>\n",
       "      <td>2018-03-15 14:07:50</td>\n",
       "      <td>03/15/2018 15:01:39</td>\n",
       "      <td>4.000000</td>\n",
       "      <td>4BI43100</td>\n",
       "      <td>4BI43106</td>\n",
       "      <td>1.521122870e+12</td>\n",
       "    </tr>\n",
       "    <tr>\n",
       "      <th>70814</th>\n",
       "      <td>2018-03-19 08:51:45</td>\n",
       "      <td>03/19/2018 08:58:07</td>\n",
       "      <td>4.000000</td>\n",
       "      <td>4BI43100</td>\n",
       "      <td>4BI43106</td>\n",
       "      <td>1.521449505e+12</td>\n",
       "    </tr>\n",
       "    <tr>\n",
       "      <th>70816</th>\n",
       "      <td>2018-03-19 09:03:05</td>\n",
       "      <td>03/19/2018 09:09:01</td>\n",
       "      <td>4.000000</td>\n",
       "      <td>4BI43100</td>\n",
       "      <td>4BI43106</td>\n",
       "      <td>1.521450185e+12</td>\n",
       "    </tr>\n",
       "    <tr>\n",
       "      <th>70818</th>\n",
       "      <td>2018-03-19 10:30:26</td>\n",
       "      <td>03/19/2018 10:36:27</td>\n",
       "      <td>4.000000</td>\n",
       "      <td>4BI43100</td>\n",
       "      <td>4BI43106</td>\n",
       "      <td>1.521455426e+12</td>\n",
       "    </tr>\n",
       "    <tr>\n",
       "      <th>70819</th>\n",
       "      <td>2018-03-19 10:37:26</td>\n",
       "      <td>03/19/2018 10:49:30</td>\n",
       "      <td>4.000000</td>\n",
       "      <td>4BI43100</td>\n",
       "      <td>4BI43106</td>\n",
       "      <td>1.521455846e+12</td>\n",
       "    </tr>\n",
       "  </tbody>\n",
       "</table>\n",
       "</div>"
      ],
      "text/plain": [
       "                TIMESTAMP             END_TIME     CAUSE   CAUSE_1   CAUSE_2  \\\n",
       "69904 2018-01-29 15:51:45  01/29/2018 16:03:36  4.000000  4BI11100  4BI11102   \n",
       "69994 2018-02-02 12:56:06  02/02/2018 13:12:19  4.000000  4BI11100  4BI11102   \n",
       "70117 2018-02-12 05:40:27  02/12/2018 06:18:48  4.000000  4BI11100  4BI11105   \n",
       "70151 2018-02-13 08:18:27  02/13/2018 11:45:13  4.000000  4BI11100  4BI11105   \n",
       "70218 2018-02-15 18:23:26  02/15/2018 20:54:33  4.000000  4BI11100  4BI11102   \n",
       "70741 2018-03-15 14:07:50  03/15/2018 15:01:39  4.000000  4BI43100  4BI43106   \n",
       "70814 2018-03-19 08:51:45  03/19/2018 08:58:07  4.000000  4BI43100  4BI43106   \n",
       "70816 2018-03-19 09:03:05  03/19/2018 09:09:01  4.000000  4BI43100  4BI43106   \n",
       "70818 2018-03-19 10:30:26  03/19/2018 10:36:27  4.000000  4BI43100  4BI43106   \n",
       "70819 2018-03-19 10:37:26  03/19/2018 10:49:30  4.000000  4BI43100  4BI43106   \n",
       "\n",
       "          DE_TIMESTAMP  \n",
       "69904  1.517241105e+12  \n",
       "69994  1.517576166e+12  \n",
       "70117  1.518414027e+12  \n",
       "70151  1.518509907e+12  \n",
       "70218  1.518719006e+12  \n",
       "70741  1.521122870e+12  \n",
       "70814  1.521449505e+12  \n",
       "70816  1.521450185e+12  \n",
       "70818  1.521455426e+12  \n",
       "70819  1.521455846e+12  "
      ]
     },
     "execution_count": 15,
     "metadata": {},
     "output_type": "execute_result"
    }
   ],
   "source": [
    "BRK4"
   ]
  },
  {
   "cell_type": "code",
   "execution_count": null,
   "metadata": {},
   "outputs": [],
   "source": [
    "import datetime\n",
    "for i in BRK4_TIME :\n",
    "    start = i - datetime.timedelta(days=-3)\n",
    "start"
   ]
  },
  {
   "cell_type": "code",
   "execution_count": null,
   "metadata": {
    "collapsed": true
   },
   "outputs": [],
   "source": [
    "BRK4 = NTRS[NTRS['CAUSE']=='4.000000']\n",
    "BRK4.shape\n",
    "#BRK4.iloc[:(BRK4.shape[0])/2]"
   ]
  },
  {
   "cell_type": "code",
   "execution_count": null,
   "metadata": {
    "collapsed": true
   },
   "outputs": [],
   "source": [
    "#prc_df['TIMESTAMP']"
   ]
  },
  {
   "cell_type": "code",
   "execution_count": null,
   "metadata": {
    "collapsed": true
   },
   "outputs": [],
   "source": [
    "#prc_df[prc_df['TIMESTAMP'] < '2018-01-01 00:00:00']\n",
    "#prc_df[prc_df['TIMESTAMP'] < '2018-01-01 00:00:00'].loc[:,['DE_TIMESTAMP','TIMESTAMP',item]]"
   ]
  },
  {
   "cell_type": "code",
   "execution_count": null,
   "metadata": {},
   "outputs": [],
   "source": [
    "TIME_START, TIME_END, mask_ntrs, brk"
   ]
  },
  {
   "cell_type": "code",
   "execution_count": null,
   "metadata": {},
   "outputs": [],
   "source": [
    "mask_ntrs = (BRK4['TIMESTAMP'] >= TIME_START) & (BRK4['TIMESTAMP'] <= TIME_END)\n",
    "NTRS = BRK4.loc[mask_ntrs].loc[:,['DE_TIMESTAMP','TIMESTAMP','CAUSE']]\n",
    "NTRS"
   ]
  },
  {
   "cell_type": "code",
   "execution_count": null,
   "metadata": {},
   "outputs": [],
   "source": [
    "test = NTRS[NTRS['TIMESTAMP'] == brk].TIMESTAMP.values[0]\n",
    "test"
   ]
  },
  {
   "cell_type": "code",
   "execution_count": null,
   "metadata": {},
   "outputs": [],
   "source": [
    "import datetime\n",
    "import matplotlib.pyplot as plt\n",
    "version = 0\n",
    "\n",
    "for brk in SUB_BRK4_TIME:\n",
    "    #version = version +1\n",
    "    for item in sub_control:\n",
    "        TIME_START = brk - datetime.timedelta(days=3)\n",
    "        TIME_END = brk + datetime.timedelta(days=2)\n",
    "        mask_prc = (prc_df['TIMESTAMP'] >= TIME_START) & (prc_df['TIMESTAMP'] <= TIME_END)            \n",
    "        PRC = prc_df.loc[mask_prc].loc[:,['DE_TIMESTAMP','TIMESTAMP',item]]\n",
    "\n",
    "        mask_ntrs = (ntrs_df['TIMESTAMP'] >= TIME_START) & (ntrs_df['TIMESTAMP'] <= TIME_END)\n",
    "        NTRS = BRK4.loc[mask_ntrs].loc[:,['DE_TIMESTAMP','TIMESTAMP','CAUSE', 'CAUSE_2']]\n",
    "\n",
    "        %matplotlib inline\n",
    "        plt.figure(figsize=(60,30))\n",
    "\n",
    "        ax = plt.subplot(221)\n",
    "        main_brk = NTRS[NTRS['TIMESTAMP'] == brk].CAUSE_2.item()\n",
    "        main_time = NTRS[NTRS['TIMESTAMP'] == brk].TIMESTAMP.values[0]\n",
    "        X3=item+'-MAIN BRK-'+main_brk+'-MAIN TIME-'+str(main_time)\n",
    "        #X4=item+'-MAIN_BRK-'+main_brk+'_V'+str(version)+'.'+'jpeg'\n",
    "        plt.title(X3)\n",
    "        plt.grid(True)\n",
    "\n",
    "        X = PRC['DE_TIMESTAMP'].values\n",
    "        Y = PRC[item].values\n",
    "        plt.vlines(x=X, ymin=min(Y),ymax=max(Y),color='none')\n",
    "        plt.scatter(X, Y, color='b')\n",
    "        for i in range(NTRS.shape[0]):\n",
    "            if NTRS.iloc[i]['CAUSE'] == '4.000000':\n",
    "                plt.axvline(x=NTRS.iloc[i]['DE_TIMESTAMP'],ymax=200, color='r',linewidth=3)\n",
    "        ax.set_xticklabels([datetime.datetime.fromtimestamp(ts / 1e3).strftime(\"%Y-%m-%d %H:%M:%S\") for ts in ax.get_xticks()])\n",
    "        fig1 = plt.gcf()\n",
    "        plt.show()\n",
    "        #fig1.savefig(X4)"
   ]
  },
  {
   "cell_type": "code",
   "execution_count": null,
   "metadata": {
    "collapsed": true
   },
   "outputs": [],
   "source": [
    "#PRC[PRC['TIMESTAMP'] >= '2018-01-29 10:39:04']"
   ]
  },
  {
   "cell_type": "code",
   "execution_count": null,
   "metadata": {
    "collapsed": true
   },
   "outputs": [],
   "source": [
    "import matplotlib.pyplot as plt\n",
    "for item in test:\n",
    "    PRC1 = prc_df.loc[:,['DE_TIMESTAMP',item]].iloc[:(prc_df.shape[0]/2)]\n",
    "    PRC2 = prc_df.loc[:,['DE_TIMESTAMP',item]].iloc[(prc_df.shape[0]/2):]\n",
    "    Time = PRC2.iloc[0].DE_TIMESTAMP\n",
    "    \n",
    "    NTRS1 = ntrs_df[ntrs_df['DE_TIMESTAMP'] < Time].loc[:,['DE_TIMESTAMP','TIMESTAMP','CAUSE']]\n",
    "    NTRS2 = ntrs_df[ntrs_df['DE_TIMESTAMP'] >= Time].loc[:,['DE_TIMESTAMP','TIMESTAMP','CAUSE']]\n",
    "    \n",
    "    %matplotlib inline\n",
    "    plt.figure(figsize=(60,30))\n",
    "    \n",
    "    ax = plt.subplot(221)\n",
    "    #X3=j+str(i)\n",
    "    X4=item+'_2'+'.'+'jpeg'\n",
    "    plt.title(item)\n",
    "    plt.grid(True)\n",
    "    \n",
    "    X = PRC2['DE_TIMESTAMP'].values\n",
    "    Y = PRC2[item].values\n",
    "    plt.vlines(x=X, ymin=min(Y),ymax=max(Y),color='none')\n",
    "    plt.scatter(X, Y, color='b')\n",
    "    for i in range(NTRS2.shape[0]):\n",
    "        if NTRS2.iloc[i]['CAUSE'] == '4.000000':\n",
    "            plt.axvline(x=NTRS2.iloc[i]['DE_TIMESTAMP'],ymax=200, color='r',linewidth=3)\n",
    "    ax.set_xticklabels([datetime.fromtimestamp(ts / 1e3).strftime(\"%Y-%m-%d %H:%M:%S\") for ts in ax.get_xticks()])\n",
    "    fig1 = plt.gcf()\n",
    "    plt.show()"
   ]
  },
  {
   "cell_type": "code",
   "execution_count": null,
   "metadata": {
    "collapsed": true
   },
   "outputs": [],
   "source": [
    "import matplotlib.pyplot as plt\n",
    "for item in test:\n",
    "    PRC1 = prc_df.loc[:,['DE_TIMESTAMP',item]].iloc[:(prc_df.shape[0]/2)]\n",
    "    PRC2 = prc_df.loc[:,['DE_TIMESTAMP',item]].iloc[(prc_df.shape[0]/2):]\n",
    "    Time = PRC2.iloc[0].DE_TIMESTAMP\n",
    "    \n",
    "    NTRS1 = ntrs_df[ntrs_df['DE_TIMESTAMP'] < Time].loc[:,['DE_TIMESTAMP','TIMESTAMP','CAUSE']]\n",
    "    NTRS2 = ntrs_df[ntrs_df['DE_TIMESTAMP'] >= Time].loc[:,['DE_TIMESTAMP','TIMESTAMP','CAUSE']]\n",
    "    \n",
    "    %matplotlib inline\n",
    "    plt.figure(figsize=(60,30))\n",
    "    ax = plt.subplot(221)\n",
    "    #X3=j+str(i)\n",
    "    X4=item+'_1'+'.'+'jpeg'\n",
    "    plt.title(item)\n",
    "    plt.grid(True)\n",
    "    \n",
    "    X = PRC1['DE_TIMESTAMP'].values\n",
    "    Y = PRC1[item].values\n",
    "    plt.vlines(x=X, ymin=min(Y),ymax=max(Y),color='none')\n",
    "    plt.scatter(X, Y, color='b')\n",
    "    for i in range(NTRS1.shape[0]):\n",
    "        if NTRS1.iloc[i]['CAUSE'] == '4.000000':\n",
    "            plt.axvline(x=NTRS1.iloc[i]['DE_TIMESTAMP'],ymax=200, color='r',linewidth=3)\n",
    "    ax.set_xticklabels([datetime.fromtimestamp(ts / 1e3).strftime(\"%Y-%m-%d %H:%M:%S\") for ts in ax.get_xticks()])\n",
    "    fig1 = plt.gcf()\n",
    "    plt.show()\n",
    "    fig1.savefig(X4)\n",
    "     "
   ]
  },
  {
   "cell_type": "code",
   "execution_count": null,
   "metadata": {
    "collapsed": true
   },
   "outputs": [],
   "source": [
    "for i in range(NTRS2.shape[0]):\n",
    "    if NTRS2.iloc[i][2] == '4.000000':\n",
    "        print NTRS2.iloc[i]"
   ]
  },
  {
   "cell_type": "code",
   "execution_count": null,
   "metadata": {
    "collapsed": true
   },
   "outputs": [],
   "source": [
    "NTRS1 = ntrs_df[ntrs_df['DE_TIMESTAMP'] < Time]\n",
    "NTRS1"
   ]
  },
  {
   "cell_type": "code",
   "execution_count": null,
   "metadata": {
    "collapsed": true
   },
   "outputs": [],
   "source": [
    "Time = PRC2.iloc[0].DE_TIMESTAMP\n",
    "Time"
   ]
  }
 ],
 "metadata": {
  "kernelspec": {
   "display_name": "Python 2",
   "language": "python",
   "name": "python2"
  },
  "language_info": {
   "codemirror_mode": {
    "name": "ipython",
    "version": 2
   },
   "file_extension": ".py",
   "mimetype": "text/x-python",
   "name": "python",
   "nbconvert_exporter": "python",
   "pygments_lexer": "ipython2",
   "version": "2.7.14"
  }
 },
 "nbformat": 4,
 "nbformat_minor": 2
}
